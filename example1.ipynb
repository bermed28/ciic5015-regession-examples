{
 "cells": [
  {
   "attachments": {},
   "cell_type": "markdown",
   "metadata": {},
   "source": [
    "# CIIC5015: Intro to Artificial Intelligence\n",
    "### Example 1: Intro to PyTorch & Numpy\n",
    "#### Import the necessary libraries\n",
    "- PyTorch\n",
    "- Numpy\n",
    "- Matplotlib"
   ]
  },
  {
   "cell_type": "code",
   "execution_count": 1,
   "metadata": {},
   "outputs": [],
   "source": [
    "import torch\n",
    "import numpy as np\n",
    "import matplotlib.pyplot as plt"
   ]
  },
  {
   "attachments": {},
   "cell_type": "markdown",
   "metadata": {},
   "source": [
    "### Generate Synthetic Data\n",
    "This is done by using the `arange()` function that is included in PyTorch, we create an array of values from [-5, 5] with each new value having a step of 0.1. We then take and convert this into a N x 1 Tensor, where N in this case will be 100"
   ]
  },
  {
   "cell_type": "code",
   "execution_count": 2,
   "metadata": {},
   "outputs": [
    {
     "name": "stdout",
     "output_type": "stream",
     "text": [
      "data.shape = torch.Size([100, 1])\n",
      "data: tensor([[-5.0000e+00],\n",
      "        [-4.9000e+00],\n",
      "        [-4.8000e+00],\n",
      "        [-4.7000e+00],\n",
      "        [-4.6000e+00],\n",
      "        [-4.5000e+00],\n",
      "        [-4.4000e+00],\n",
      "        [-4.3000e+00],\n",
      "        [-4.2000e+00],\n",
      "        [-4.1000e+00],\n",
      "        [-4.0000e+00],\n",
      "        [-3.9000e+00],\n",
      "        [-3.8000e+00],\n",
      "        [-3.7000e+00],\n",
      "        [-3.6000e+00],\n",
      "        [-3.5000e+00],\n",
      "        [-3.4000e+00],\n",
      "        [-3.3000e+00],\n",
      "        [-3.2000e+00],\n",
      "        [-3.1000e+00],\n",
      "        [-3.0000e+00],\n",
      "        [-2.9000e+00],\n",
      "        [-2.8000e+00],\n",
      "        [-2.7000e+00],\n",
      "        [-2.6000e+00],\n",
      "        [-2.5000e+00],\n",
      "        [-2.4000e+00],\n",
      "        [-2.3000e+00],\n",
      "        [-2.2000e+00],\n",
      "        [-2.1000e+00],\n",
      "        [-2.0000e+00],\n",
      "        [-1.9000e+00],\n",
      "        [-1.8000e+00],\n",
      "        [-1.7000e+00],\n",
      "        [-1.6000e+00],\n",
      "        [-1.5000e+00],\n",
      "        [-1.4000e+00],\n",
      "        [-1.3000e+00],\n",
      "        [-1.2000e+00],\n",
      "        [-1.1000e+00],\n",
      "        [-1.0000e+00],\n",
      "        [-9.0000e-01],\n",
      "        [-8.0000e-01],\n",
      "        [-7.0000e-01],\n",
      "        [-6.0000e-01],\n",
      "        [-5.0000e-01],\n",
      "        [-4.0000e-01],\n",
      "        [-3.0000e-01],\n",
      "        [-2.0000e-01],\n",
      "        [-1.0000e-01],\n",
      "        [-2.9802e-09],\n",
      "        [ 1.0000e-01],\n",
      "        [ 2.0000e-01],\n",
      "        [ 3.0000e-01],\n",
      "        [ 4.0000e-01],\n",
      "        [ 5.0000e-01],\n",
      "        [ 6.0000e-01],\n",
      "        [ 7.0000e-01],\n",
      "        [ 8.0000e-01],\n",
      "        [ 9.0000e-01],\n",
      "        [ 1.0000e+00],\n",
      "        [ 1.1000e+00],\n",
      "        [ 1.2000e+00],\n",
      "        [ 1.3000e+00],\n",
      "        [ 1.4000e+00],\n",
      "        [ 1.5000e+00],\n",
      "        [ 1.6000e+00],\n",
      "        [ 1.7000e+00],\n",
      "        [ 1.8000e+00],\n",
      "        [ 1.9000e+00],\n",
      "        [ 2.0000e+00],\n",
      "        [ 2.1000e+00],\n",
      "        [ 2.2000e+00],\n",
      "        [ 2.3000e+00],\n",
      "        [ 2.4000e+00],\n",
      "        [ 2.5000e+00],\n",
      "        [ 2.6000e+00],\n",
      "        [ 2.7000e+00],\n",
      "        [ 2.8000e+00],\n",
      "        [ 2.9000e+00],\n",
      "        [ 3.0000e+00],\n",
      "        [ 3.1000e+00],\n",
      "        [ 3.2000e+00],\n",
      "        [ 3.3000e+00],\n",
      "        [ 3.4000e+00],\n",
      "        [ 3.5000e+00],\n",
      "        [ 3.6000e+00],\n",
      "        [ 3.7000e+00],\n",
      "        [ 3.8000e+00],\n",
      "        [ 3.9000e+00],\n",
      "        [ 4.0000e+00],\n",
      "        [ 4.1000e+00],\n",
      "        [ 4.2000e+00],\n",
      "        [ 4.3000e+00],\n",
      "        [ 4.4000e+00],\n",
      "        [ 4.5000e+00],\n",
      "        [ 4.6000e+00],\n",
      "        [ 4.7000e+00],\n",
      "        [ 4.8000e+00],\n",
      "        [ 4.9000e+00]])\n"
     ]
    }
   ],
   "source": [
    "\"\"\"\n",
    "torch.arange(-5, 5, 0.1)\n",
    "Return a 1D tensor that has values from -5, 5 with a step of 0.1 in between each value\n",
    "\n",
    ".view(-1, 1)\n",
    "Return a 2D tensor that has 1 column and compute the appropriate \n",
    "number of rows that is necessary to make this happen (we specify this with the -1). \n",
    "In this case, the appropriate number of rows is 100\n",
    "\"\"\"\n",
    "data = torch.arange(-5, 5, 0.1).view(-1, 1)\n",
    "print(f\"data.shape = {data.shape}\")\n",
    "print(f\"data: {data}\")"
   ]
  },
  {
   "attachments": {},
   "cell_type": "markdown",
   "metadata": {},
   "source": [
    "### Real Value Function\n",
    "Here, we define the function that represents our ideal model with `ideal_model`. Then, in a separate variable, we add fake noise to the model to simulate that the model made some predictions on its own."
   ]
  },
  {
   "cell_type": "code",
   "execution_count": 16,
   "metadata": {},
   "outputs": [],
   "source": [
    "ideal_model = -5 * data\n",
    "predictions = ideal_model + 2.5 * torch.rand(data.size()) # Add fake noise to every value of X using torch.rand()"
   ]
  },
  {
   "attachments": {},
   "cell_type": "markdown",
   "metadata": {},
   "source": [
    "### Matplotlib Graph\n",
    "Now, to take a look at our model and data it \"predicted\" we use Matplotlib to graph everything."
   ]
  },
  {
   "cell_type": "code",
   "execution_count": 17,
   "metadata": {},
   "outputs": [
    {
     "name": "stdout",
     "output_type": "stream",
     "text": [
      "data.shape: torch.Size([100, 1])\n",
      "predictions.shape: torch.Size([100, 1])\n"
     ]
    }
   ],
   "source": [
    "print(f\"data.shape: {data.shape}\")\n",
    "print(f\"predictions.shape: {predictions.shape}\")"
   ]
  },
  {
   "attachments": {},
   "cell_type": "markdown",
   "metadata": {},
   "source": [
    "First, we convert the data, the model and the predictions to Numpy arrays so we can plot them. Then we tell Matplotlib to take those arrays and plot them in their correspoding axis."
   ]
  },
  {
   "cell_type": "code",
   "execution_count": 18,
   "metadata": {},
   "outputs": [
    {
     "data": {
      "image/png": "[encoded data removed]",
      "text/plain": [
       "<Figure size 640x480 with 1 Axes>"
      ]
     },
     "metadata": {},
     "output_type": "display_data"
    }
   ],
   "source": [
    "# Convert torch tensors to numpy arrays and plot it\n",
    "plt.plot(data.numpy(), predictions.numpy(), 'b+', label=\"Predictions\") # (Given Data) Shown as + symbols\n",
    "plt.plot(data.numpy(), ideal_model.numpy(), 'r', label=\"Ideal Model\") # (Ideal Model)\n",
    "plt.xlabel('data')\n",
    "plt.ylabel('predictions')\n",
    "plt.legend()\n",
    "plt.grid(True, color='grey')\n",
    "plt.show()\n"
   ]
  },
  {
   "attachments": {},
   "cell_type": "markdown",
   "metadata": {},
   "source": [
    "### Weights\n",
    "Now, we define the first parameter the model will use, the weight. This will be a scalar tensor of -10.0 and we indicate that it should record all operations made on the tensor with `requires_grad`.\n",
    "\n",
    "Our predictions will be of the following form: $$ Y = wX - model $$\n",
    "\n",
    "Where $Y$ is the predicted Tensor value, $w$ is the weight, $X$ is the input Tensor & $model$ is the input model\n",
    "\n",
    "We also define the following functions:\n",
    "- `forward(model: Tensor) -> Tensor`\n",
    "    - Returns the model modified by a factor of `w` (which is the weight)\n",
    "- `criterion(prediction: Tensor, real_value: Tensor) -> float` \n",
    "    - Returns the mean square error of the prediction the model made against its actual value"
   ]
  },
  {
   "cell_type": "code",
   "execution_count": 19,
   "metadata": {},
   "outputs": [],
   "source": [
    "w = torch.tensor(-10.0, requires_grad=True)\n",
    "\n",
    "# Model Function\n",
    "def forward(model):\n",
    "    return w * model\n",
    "\n",
    "# Mean Squared Error Loss Function\n",
    "def criterion(prediction, real_value):\n",
    "    return torch.mean((prediction - real_value)**2)\n"
   ]
  },
  {
   "attachments": {},
   "cell_type": "markdown",
   "metadata": {},
   "source": [
    "### Create the hyperparameters to train model\n",
    "Here, we define three hyperparameters we will tinker manually to adjust the model training:\n",
    "-  `learning_rate`: How fast or slow the model will adjust its parameters based on the gradient descent algorithm\n",
    "- `epochs`: The number of iterations we will make to train the model\n",
    "- `loss_list`: A Python list to store previously compute loss values. This is to see how the loss changes as training is done on the model. It is expected that all the values in this list converge to 0 as N approaches the number of epochs specified."
   ]
  },
  {
   "cell_type": "code",
   "execution_count": 20,
   "metadata": {},
   "outputs": [],
   "source": [
    "learning_rate = 0.1\n",
    "epochs = 20\n",
    "loss_list = [] # Store computed loss values per epoch"
   ]
  },
  {
   "attachments": {},
   "cell_type": "markdown",
   "metadata": {},
   "source": [
    "### Standard Training Loop\n",
    "Here, we create the main loop to train our model. The algorithm to train is as follows:\n",
    "```\n",
    "for i = 0 to number of epochs:\n",
    "    cur_prediction: make a prediction using the data stored\n",
    "    computed_loss: Compute the mean square error of the prediction against its real value\n",
    "    Add computed_Loss value to the loss_list\n",
    "    Update the values and parameters of the computed loss\n",
    "    Do Gradient Descent to update the weight value & reset the graident to 0 for the next iteration\n",
    "    Output values computed in ith iteration\n",
    "```"
   ]
  },
  {
   "cell_type": "code",
   "execution_count": 21,
   "metadata": {},
   "outputs": [
    {
     "name": "stdout",
     "output_type": "stream",
     "text": [
      "i \t Computed Loss \t Updated Weight\n",
      "0 \t208.375 \t-1.6649999618530273\n",
      "1 \t92.70374298095703 \t-7.224445343017578\n",
      "2 \t41.242889404296875 \t-3.5162947177886963\n",
      "3 \t18.348512649536133 \t-5.989631652832031\n",
      "4 \t8.163055419921875 \t-4.339915752410889\n",
      "5 \t3.631653070449829 \t-5.440276145935059\n",
      "6 \t1.6156823635101318 \t-4.706335544586182\n",
      "7 \t0.71880042552948 \t-5.195874214172363\n",
      "8 \t0.3197864294052124 \t-4.869351863861084\n",
      "9 \t0.14226962625980377 \t-5.087142467498779\n",
      "10 \t0.06329440325498581 \t-4.94187593460083\n",
      "11 \t0.028159037232398987 \t-5.038768768310547\n",
      "12 \t0.012527643702924252 \t-4.9741411209106445\n",
      "13 \t0.005573487840592861 \t-5.017248153686523\n",
      "14 \t0.0024796545039862394 \t-4.988495349884033\n",
      "15 \t0.0011031933827325702 \t-5.007673740386963\n",
      "16 \t0.0004908173577859998 \t-4.994881629943848\n",
      "17 \t0.00021835928782820702 \t-5.003414154052734\n",
      "18 \t9.715635678730905e-05 \t-4.997722625732422\n",
      "19 \t4.322902168496512e-05 \t-5.001519203186035\n"
     ]
    }
   ],
   "source": [
    "print(f\"i \\t Computed Loss \\t Updated Weight\")\n",
    "for i in range(epochs):\n",
    "    # Make a prediction using data stored in X\n",
    "    cur_prediction = forward(data)\n",
    "\n",
    "    # Compute loss from prediction (Y_pred) and actual value (Y)\n",
    "    loss = criterion(cur_prediction, ideal_model)\n",
    "\n",
    "    # Store computed loss value\n",
    "    loss_list.append(loss.item())\n",
    "\n",
    "    # Update values & parameters\n",
    "    loss.backward()\n",
    "    w.data = w.data - learning_rate * w.grad.data # Graident Descent by hand: w = w - aplha * (dJ/dw)\n",
    "    w.grad.data.zero_() # Reset gradient to 0\n",
    "    print(f\"{i} \\t{loss.item()} \\t{w.item()}\")\n"
   ]
  },
  {
   "attachments": {},
   "cell_type": "markdown",
   "metadata": {},
   "source": [
    "### Plot computed loss values during training to see if loss converged to 0 during training"
   ]
  },
  {
   "cell_type": "code",
   "execution_count": 22,
   "metadata": {},
   "outputs": [
    {
     "data": {
      "image/png": "[encoded data removed]",
      "text/plain": [
       "<Figure size 640x480 with 1 Axes>"
      ]
     },
     "metadata": {},
     "output_type": "display_data"
    }
   ],
   "source": [
    "plt.plot(loss_list, 'r', label=\"func\") # Plot the loss function in red color\n",
    "plt.xlabel('Epochs')\n",
    "plt.ylabel('Loss')\n",
    "plt.legend()\n",
    "plt.grid(True, color='grey')\n",
    "plt.show()"
   ]
  }
 ],
 "metadata": {
  "kernelspec": {
   "display_name": ".venv",
   "language": "python",
   "name": "python3"
  },
  "language_info": {
   "codemirror_mode": {
    "name": "ipython",
    "version": 3
   },
   "file_extension": ".py",
   "mimetype": "text/x-python",
   "name": "python",
   "nbconvert_exporter": "python",
   "pygments_lexer": "ipython3",
   "version": "3.10.10"
  },
  "orig_nbformat": 4,
  "vscode": {
   "interpreter": {
    "hash": "a70886e070a02390098758b609399c016e8b3e74c25cf14833b712da2f5238e9"
   }
  }
 },
 "nbformat": 4,
 "nbformat_minor": 2
}

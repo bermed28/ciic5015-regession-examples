{
 "cells": [
  {
   "attachments": {},
   "cell_type": "markdown",
   "metadata": {},
   "source": [
    "# CIIC5015: Intro to Artificial Intelligence\n",
    "### Example 3: Intro to PyTorch & Numpy - Using PyTorch to automatize models, compute loss/gradients\n",
    "#### Import the necessary libraries\n",
    "- PyTorch\n",
    "- Numpy\n",
    "- Matplotlib"
   ]
  },
  {
   "cell_type": "code",
   "execution_count": 2,
   "metadata": {},
   "outputs": [],
   "source": [
    "import torch\n",
    "import numpy as np\n",
    "import matplotlib.pyplot as plt"
   ]
  },
  {
   "attachments": {},
   "cell_type": "markdown",
   "metadata": {},
   "source": [
    "### Generate Synthetic Data\n",
    "This is done by using the `arange()` function that is included in PyTorch, we create an array of values from [-5, 5] with each new value having a step of 0.1. We then take and convert this into a N x 1 Tensor, where N in this case will be 100"
   ]
  },
  {
   "cell_type": "code",
   "execution_count": 3,
   "metadata": {},
   "outputs": [
    {
     "name": "stdout",
     "output_type": "stream",
     "text": [
      "data.shape = torch.Size([100, 1])\n",
      "data: tensor([[-5.0000e+00],\n",
      "        [-4.9000e+00],\n",
      "        [-4.8000e+00],\n",
      "        [-4.7000e+00],\n",
      "        [-4.6000e+00],\n",
      "        [-4.5000e+00],\n",
      "        [-4.4000e+00],\n",
      "        [-4.3000e+00],\n",
      "        [-4.2000e+00],\n",
      "        [-4.1000e+00],\n",
      "        [-4.0000e+00],\n",
      "        [-3.9000e+00],\n",
      "        [-3.8000e+00],\n",
      "        [-3.7000e+00],\n",
      "        [-3.6000e+00],\n",
      "        [-3.5000e+00],\n",
      "        [-3.4000e+00],\n",
      "        [-3.3000e+00],\n",
      "        [-3.2000e+00],\n",
      "        [-3.1000e+00],\n",
      "        [-3.0000e+00],\n",
      "        [-2.9000e+00],\n",
      "        [-2.8000e+00],\n",
      "        [-2.7000e+00],\n",
      "        [-2.6000e+00],\n",
      "        [-2.5000e+00],\n",
      "        [-2.4000e+00],\n",
      "        [-2.3000e+00],\n",
      "        [-2.2000e+00],\n",
      "        [-2.1000e+00],\n",
      "        [-2.0000e+00],\n",
      "        [-1.9000e+00],\n",
      "        [-1.8000e+00],\n",
      "        [-1.7000e+00],\n",
      "        [-1.6000e+00],\n",
      "        [-1.5000e+00],\n",
      "        [-1.4000e+00],\n",
      "        [-1.3000e+00],\n",
      "        [-1.2000e+00],\n",
      "        [-1.1000e+00],\n",
      "        [-1.0000e+00],\n",
      "        [-9.0000e-01],\n",
      "        [-8.0000e-01],\n",
      "        [-7.0000e-01],\n",
      "        [-6.0000e-01],\n",
      "        [-5.0000e-01],\n",
      "        [-4.0000e-01],\n",
      "        [-3.0000e-01],\n",
      "        [-2.0000e-01],\n",
      "        [-1.0000e-01],\n",
      "        [-2.9802e-09],\n",
      "        [ 1.0000e-01],\n",
      "        [ 2.0000e-01],\n",
      "        [ 3.0000e-01],\n",
      "        [ 4.0000e-01],\n",
      "        [ 5.0000e-01],\n",
      "        [ 6.0000e-01],\n",
      "        [ 7.0000e-01],\n",
      "        [ 8.0000e-01],\n",
      "        [ 9.0000e-01],\n",
      "        [ 1.0000e+00],\n",
      "        [ 1.1000e+00],\n",
      "        [ 1.2000e+00],\n",
      "        [ 1.3000e+00],\n",
      "        [ 1.4000e+00],\n",
      "        [ 1.5000e+00],\n",
      "        [ 1.6000e+00],\n",
      "        [ 1.7000e+00],\n",
      "        [ 1.8000e+00],\n",
      "        [ 1.9000e+00],\n",
      "        [ 2.0000e+00],\n",
      "        [ 2.1000e+00],\n",
      "        [ 2.2000e+00],\n",
      "        [ 2.3000e+00],\n",
      "        [ 2.4000e+00],\n",
      "        [ 2.5000e+00],\n",
      "        [ 2.6000e+00],\n",
      "        [ 2.7000e+00],\n",
      "        [ 2.8000e+00],\n",
      "        [ 2.9000e+00],\n",
      "        [ 3.0000e+00],\n",
      "        [ 3.1000e+00],\n",
      "        [ 3.2000e+00],\n",
      "        [ 3.3000e+00],\n",
      "        [ 3.4000e+00],\n",
      "        [ 3.5000e+00],\n",
      "        [ 3.6000e+00],\n",
      "        [ 3.7000e+00],\n",
      "        [ 3.8000e+00],\n",
      "        [ 3.9000e+00],\n",
      "        [ 4.0000e+00],\n",
      "        [ 4.1000e+00],\n",
      "        [ 4.2000e+00],\n",
      "        [ 4.3000e+00],\n",
      "        [ 4.4000e+00],\n",
      "        [ 4.5000e+00],\n",
      "        [ 4.6000e+00],\n",
      "        [ 4.7000e+00],\n",
      "        [ 4.8000e+00],\n",
      "        [ 4.9000e+00]])\n"
     ]
    }
   ],
   "source": [
    "\"\"\"\n",
    "torch.arange(-5, 5, 0.1)\n",
    "Return a 1D tensor that has values from -5, 5 with a step of 0.1 in between each value\n",
    "\n",
    ".view(-1, 1)\n",
    "Return a 2D tensor that has 1 column and compute the appropriate \n",
    "number of rows that is necessary to make this happen (we specify this with the -1). \n",
    "In this case, the appropriate number of rows is 100\n",
    "\"\"\"\n",
    "data = torch.arange(-5, 5, 0.1).view(-1, 1)\n",
    "print(f\"data.shape = {data.shape}\")\n",
    "print(f\"data: {data}\")"
   ]
  },
  {
   "attachments": {},
   "cell_type": "markdown",
   "metadata": {},
   "source": [
    "### Real Value Function\n",
    "Here, we define the function that represents our ideal model with `ideal_model`. Then, in a separate variable, we add fake noise to the model to simulate that the model made some predictions on its own."
   ]
  },
  {
   "cell_type": "code",
   "execution_count": 4,
   "metadata": {},
   "outputs": [],
   "source": [
    "ideal_model = -5 * data\n",
    "predictions = ideal_model + 0.4 * torch.rand(data.size()) # Add fake noise to every value of X using torch.rand()"
   ]
  },
  {
   "attachments": {},
   "cell_type": "markdown",
   "metadata": {},
   "source": [
    "### Matplotlib Graph\n",
    "Now, to take a look at our model and data it \"predicted\" we use Matplotlib to graph everything."
   ]
  },
  {
   "cell_type": "code",
   "execution_count": 5,
   "metadata": {},
   "outputs": [
    {
     "name": "stdout",
     "output_type": "stream",
     "text": [
      "data.shape: torch.Size([100, 1])\n",
      "predictions.shape: torch.Size([100, 1])\n"
     ]
    }
   ],
   "source": [
    "print(f\"data.shape: {data.shape}\")\n",
    "print(f\"predictions.shape: {predictions.shape}\")"
   ]
  },
  {
   "attachments": {},
   "cell_type": "markdown",
   "metadata": {},
   "source": [
    "First, we convert the data, the model and the predictions to Numpy arrays so we can plot them. Then we tell Matplotlib to take those arrays and plot them in their correspoding axis."
   ]
  },
  {
   "cell_type": "code",
   "execution_count": 6,
   "metadata": {},
   "outputs": [
    {
     "data": {
      "image/png": "[encoded data removed]",
      "text/plain": [
       "<Figure size 640x480 with 1 Axes>"
      ]
     },
     "metadata": {},
     "output_type": "display_data"
    }
   ],
   "source": [
    "# Convert torch arrays to numpy arrays and plot it\n",
    "plt.plot(data.numpy(), predictions.numpy(), 'b+', label=\"Predictions\") # (Given Data) Shown as + symbols\n",
    "plt.plot(data.numpy(), ideal_model.numpy(), 'r', label=\"Ideal Model\") # (Ideal Model)\n",
    "plt.xlabel('x')\n",
    "plt.ylabel('y')\n",
    "plt.legend()\n",
    "plt.grid(True, color='grey')\n",
    "plt.show()\n"
   ]
  },
  {
   "attachments": {},
   "cell_type": "markdown",
   "metadata": {},
   "source": [
    "### Weight & Bias\n",
    "Now, we define a class that will hold our model to train, this will be the `RegressionModel` class that inherits from `torch.nn.Module`. Said class will hold a field called `linear_model` which is an instance of PyTorch's Linear Regression model. We pass it as a parameter a number of input and output dimensions and pyTorch takes care of the rest.\n",
    "\n",
    "Our predictions will be of the following form: $$Y = wX + b - model$$\n",
    "\n",
    "We also define the following method inside the class:\n",
    "- `forward(data: Tensor) -> Tensor`\n",
    "    - Returns the model modified by applying a linear transformation to the data passed as parameter\n",
    "\n",
    "Finally, we declare two new variables:\n",
    "- `optimizer`\n",
    "    - Uses PyTorch's Stochastic Gradient Descent algorithm to update the paramteter values based on the computes loss\n",
    "- `criterion` \n",
    "    - Returns the mean square error of the prediction the model made against its actual value using an instance of PyTorch's `MSELoss` class"
   ]
  },
  {
   "cell_type": "code",
   "execution_count": 7,
   "metadata": {},
   "outputs": [],
   "source": [
    "class RegressionModel(torch.nn.Module):\n",
    "\n",
    "    def __init__(self, input_dim, output_dim):\n",
    "        super(RegressionModel, self).__init__()\n",
    "        self.linear_model = torch.nn.Linear(input_dim, output_dim, bias=True)\n",
    "\n",
    "    def forward(self, x):\n",
    "        out = self.linear_model(x)\n",
    "        return out\n",
    "    \n",
    "input_dim = 1\n",
    "output_dim = 1\n",
    "\n",
    "model = RegressionModel(input_dim, output_dim)\n",
    "criterion = torch.nn.MSELoss() # Mean Squared Error Loss Function\n",
    "\n",
    "# Parameter Optimizer Based on Loss\n",
    "learning_rate = 0.1\n",
    "optimizer = torch.optim.SGD(model.parameters(), learning_rate) # Stochastic Gradient Descent"
   ]
  },
  {
   "attachments": {},
   "cell_type": "markdown",
   "metadata": {},
   "source": [
    "### Create the hyperparameters to train model\n",
    "Here, we define three hyperparameters we will tinker manually to adjust the model training:\n",
    "- `epochs`: The number of iterations we will make to train the model\n",
    "- `loss_list`: A Python list to store previously compute loss values. This is to see how the loss changes as training is done on the model. It is expected that all the values in this list converge to 0 as N approaches the number of epochs specified."
   ]
  },
  {
   "cell_type": "code",
   "execution_count": 8,
   "metadata": {},
   "outputs": [],
   "source": [
    "epochs = 20\n",
    "loss_list = [] # Store computed loss values per epoch"
   ]
  },
  {
   "attachments": {},
   "cell_type": "markdown",
   "metadata": {},
   "source": [
    "### Standard Training Loop\n",
    "Here, we create the main loop to train our model. The algorithm to train is as follows:\n",
    "```\n",
    "for i = 0 to number of epochs:\n",
    "    cur_prediction: make a prediction using the data stored\n",
    "    computed_loss: Compute the mean square error of the prediction against its real value\n",
    "    Add computed_Loss value to the loss_list\n",
    "    Update the values and parameters of the computed loss\n",
    "    Do Gradient Descent to update the weight value & reset the graident to 0 for the next iteration\n",
    "    Output values computed in ith iteration\n",
    "```"
   ]
  },
  {
   "cell_type": "code",
   "execution_count": 13,
   "metadata": {},
   "outputs": [
    {
     "name": "stdout",
     "output_type": "stream",
     "text": [
      "Finished Training!\n"
     ]
    }
   ],
   "source": [
    "for _ in range(epochs):\n",
    "    # Reset all gradients to 0\n",
    "    optimizer.zero_grad()\n",
    "\n",
    "    # Make a prediction using data stored in X\n",
    "    cur_prediction = model.forward(data)\n",
    "\n",
    "    # Compute loss from prediction (cur_prediction) and actual value (ideal_model)\n",
    "    loss = criterion(cur_prediction, ideal_model)\n",
    "\n",
    "    # Store computed loss value\n",
    "    loss_list.append(loss.item())\n",
    "\n",
    "    # Propagte computed error, the whole graph is differentiated with respect to the loss\n",
    "    loss.backward()\n",
    "\n",
    "    # Update weight & bias\n",
    "    optimizer.step()\n",
    "\n",
    "print(\"Finished Training!\")"
   ]
  },
  {
   "attachments": {},
   "cell_type": "markdown",
   "metadata": {},
   "source": [
    "### Plot computed loss values\n",
    "This is to see what happened during training & see how long it took the loss to converge to 0"
   ]
  },
  {
   "cell_type": "code",
   "execution_count": 14,
   "metadata": {},
   "outputs": [
    {
     "data": {
      "image/png": "[encoded data removed]",
      "text/plain": [
       "<Figure size 640x480 with 1 Axes>"
      ]
     },
     "metadata": {},
     "output_type": "display_data"
    }
   ],
   "source": [
    "plt.plot(loss_list, 'r', label=\"func\") # Plot the loss function in red color\n",
    "plt.xlabel('Epochs')\n",
    "plt.ylabel('Loss')\n",
    "plt.legend()\n",
    "plt.grid(True, color='grey')\n",
    "plt.show()"
   ]
  }
 ],
 "metadata": {
  "kernelspec": {
   "display_name": "ciic5015",
   "language": "python",
   "name": "python3"
  },
  "language_info": {
   "codemirror_mode": {
    "name": "ipython",
    "version": 3
   },
   "file_extension": ".py",
   "mimetype": "text/x-python",
   "name": "python",
   "nbconvert_exporter": "python",
   "pygments_lexer": "ipython3",
   "version": "3.10.10"
  },
  "orig_nbformat": 4,
  "vscode": {
   "interpreter": {
    "hash": "2c0dd9adf0bdb17ed3964e2d6eb3089aa6cf3fc5550c179b1b9c6c9ba1b1bce9"
   }
  }
 },
 "nbformat": 4,
 "nbformat_minor": 2
}
